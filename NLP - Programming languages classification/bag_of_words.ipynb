{
 "cells": [
  {
   "cell_type": "markdown",
   "metadata": {},
   "source": [
    "# NLP - classification of programming languages"
   ]
  },
  {
   "cell_type": "markdown",
   "metadata": {},
   "source": [
    "In this project we will implement bag of words model for classification of programming languages based on source code. As classifier alghoritm we will use Random Forest."
   ]
  },
  {
   "cell_type": "code",
   "execution_count": 2,
   "metadata": {},
   "outputs": [],
   "source": [
    "import numpy as np\n",
    "import pandas as pd \n",
    "import seaborn as sns\n",
    "import matplotlib.pyplot as plt\n",
    "import re\n",
    "from sklearn.preprocessing import LabelEncoder\n",
    "from sklearn.feature_extraction.text import CountVectorizer, TfidfTransformer\n",
    "from sklearn.model_selection import train_test_split\n",
    "from sklearn.metrics import accuracy_score, precision_recall_fscore_support\n",
    "from sklearn.ensemble import RandomForestClassifier\n",
    "from nltk.tokenize import WordPunctTokenizer\n"
   ]
  },
  {
   "cell_type": "code",
   "execution_count": 1,
   "metadata": {},
   "outputs": [
    {
     "name": "stdout",
     "output_type": "stream",
     "text": [
      "The scikit-learn version is 0.20.1.\n"
     ]
    }
   ],
   "source": [
    "import sklearn\n",
    "print('The scikit-learn version is {}.'.format(sklearn.__version__))"
   ]
  },
  {
   "cell_type": "markdown",
   "metadata": {},
   "source": [
    "## Input data"
   ]
  },
  {
   "cell_type": "markdown",
   "metadata": {},
   "source": [
    "First let's briefly explore our input data. "
   ]
  },
  {
   "cell_type": "code",
   "execution_count": 3,
   "metadata": {},
   "outputs": [
    {
     "data": {
      "text/html": [
       "<div>\n",
       "<style scoped>\n",
       "    .dataframe tbody tr th:only-of-type {\n",
       "        vertical-align: middle;\n",
       "    }\n",
       "\n",
       "    .dataframe tbody tr th {\n",
       "        vertical-align: top;\n",
       "    }\n",
       "\n",
       "    .dataframe thead th {\n",
       "        text-align: right;\n",
       "    }\n",
       "</style>\n",
       "<table border=\"1\" class=\"dataframe\">\n",
       "  <thead>\n",
       "    <tr style=\"text-align: right;\">\n",
       "      <th></th>\n",
       "      <th>language</th>\n",
       "      <th>file_body</th>\n",
       "    </tr>\n",
       "  </thead>\n",
       "  <tbody>\n",
       "    <tr>\n",
       "      <th>6949</th>\n",
       "      <td>C</td>\n",
       "      <td>#include &lt;stdio.h&gt;\\n#include &lt;ctype.h&gt;\\n#inclu...</td>\n",
       "    </tr>\n",
       "    <tr>\n",
       "      <th>15971</th>\n",
       "      <td>Perl</td>\n",
       "      <td>use utf8;                # interpret source co...</td>\n",
       "    </tr>\n",
       "    <tr>\n",
       "      <th>5211</th>\n",
       "      <td>Ruby</td>\n",
       "      <td>&gt;&gt; \"She was a soul stripper. She took my heart...</td>\n",
       "    </tr>\n",
       "    <tr>\n",
       "      <th>1970</th>\n",
       "      <td>Python</td>\n",
       "      <td>def recurse(counter):\\n  print(counter)\\n  cou...</td>\n",
       "    </tr>\n",
       "    <tr>\n",
       "      <th>1135</th>\n",
       "      <td>Swift</td>\n",
       "      <td>func isEven(n:Int) -&gt; Bool {\\n\\n    // Bitwise...</td>\n",
       "    </tr>\n",
       "    <tr>\n",
       "      <th>1418</th>\n",
       "      <td>Swift</td>\n",
       "      <td>let number = 1234\\nlet base   = 10\\n\\nprintln(...</td>\n",
       "    </tr>\n",
       "    <tr>\n",
       "      <th>13781</th>\n",
       "      <td>MATLAB</td>\n",
       "      <td>fprintf(1,['&lt;table&gt;\\n\\t&lt;tr&gt;\\n\\t\\t&lt;th&gt;',regexpr...</td>\n",
       "    </tr>\n",
       "    <tr>\n",
       "      <th>2955</th>\n",
       "      <td>Python</td>\n",
       "      <td>from pokerhand import Card, suit, face\\nfrom i...</td>\n",
       "    </tr>\n",
       "    <tr>\n",
       "      <th>1892</th>\n",
       "      <td>Python</td>\n",
       "      <td>import win32api\\nimport win32con\\nimport win32...</td>\n",
       "    </tr>\n",
       "    <tr>\n",
       "      <th>9450</th>\n",
       "      <td>Go</td>\n",
       "      <td>switch {\\ncase booleanExpression1:\\n    statem...</td>\n",
       "    </tr>\n",
       "  </tbody>\n",
       "</table>\n",
       "</div>"
      ],
      "text/plain": [
       "      language                                          file_body\n",
       "6949         C  #include <stdio.h>\\n#include <ctype.h>\\n#inclu...\n",
       "15971     Perl  use utf8;                # interpret source co...\n",
       "5211      Ruby  >> \"She was a soul stripper. She took my heart...\n",
       "1970    Python  def recurse(counter):\\n  print(counter)\\n  cou...\n",
       "1135     Swift  func isEven(n:Int) -> Bool {\\n\\n    // Bitwise...\n",
       "1418     Swift  let number = 1234\\nlet base   = 10\\n\\nprintln(...\n",
       "13781   MATLAB  fprintf(1,['<table>\\n\\t<tr>\\n\\t\\t<th>',regexpr...\n",
       "2955    Python  from pokerhand import Card, suit, face\\nfrom i...\n",
       "1892    Python  import win32api\\nimport win32con\\nimport win32...\n",
       "9450        Go  switch {\\ncase booleanExpression1:\\n    statem..."
      ]
     },
     "execution_count": 3,
     "metadata": {},
     "output_type": "execute_result"
    }
   ],
   "source": [
    "df = pd.read_csv('data.csv')\n",
    "df = df.sample(frac=1)\n",
    "df[['language', 'file_body']].head(10)"
   ]
  },
  {
   "cell_type": "markdown",
   "metadata": {},
   "source": [
    "#### Preprocessing"
   ]
  },
  {
   "cell_type": "markdown",
   "metadata": {},
   "source": [
    "Before we will build our model, we have to perform preprocessing of input data. We want to clean our corpus from text which is redundant and it does not matter in context of language recognition. That kind of redundant data may introduce unnecessery noise and as consequence our model may overfit training data. To clean dataset we will perform 4 operations:\n",
    "\n",
    "    - remove comments\n",
    "    - remove digits\n",
    "    - replace content inside quotes with hardcoded string\n",
    "    - remove tabs and new lines"
   ]
  },
  {
   "cell_type": "code",
   "execution_count": 4,
   "metadata": {},
   "outputs": [],
   "source": [
    "def clean_dataset(df):\n",
    "    # Remove comments starting with type of //comment and /* comment */\n",
    "    for lang in {'JavaScript', 'Java', 'Swift', 'C++', 'Rust', 'C', 'Scala','Go', 'Kotlin', 'PHP', 'Perl'}: \n",
    "        df.loc[df['language']==lang,'file_body'] = df[df['language']==lang]['file_body'].str.replace(re.compile(\"/\\*.*?\\*/\",re.DOTALL ) ,\"\" ,regex=True)\n",
    "        df.loc[df['language']==lang,'file_body'] = df[df['language']==lang]['file_body'].str.replace(re.compile(\"//.*?\\n\" ) ,\"\" ,regex=True)\n",
    "    for lang in {'Python', 'Ruby', 'R', 'Julia'}:\n",
    "        df.loc[df['language']==lang,'file_body'] = df[df['language']==lang]['file_body'].str.replace(re.compile(\"#.*?\\n\" ) ,\"\" ,regex=True)\n",
    "    for lang in {'MATLAB'}:\n",
    "        df.loc[df['language']==lang,'file_body'] = df[df['language']==lang]['file_body'].str.replace(re.compile(\"%.*?\\n\" ) ,\"\" ,regex=True)\n",
    "    for lang in {'Haskell'}:\n",
    "        df.loc[df['language']==lang,'file_body'] = df[df['language']==lang]['file_body'].str.replace(re.compile(\"--.*?\\n\" ) ,\"\" ,regex=True)\n",
    "    \n",
    "    # Remove digits\n",
    "    df['file_body'] = df['file_body'].str.replace(re.compile('\\d+(.\\d+)?'), \"CYFRA\", regex=True)\n",
    "   \n",
    "    # Replace content inside quotes with hardcoded string\n",
    "    df['file_body'] = df['file_body'].str.replace(re.compile('\".*?\"') ,\"SLOWO\" ,regex=True)\n",
    "    df['file_body'] = df['file_body'].str.replace(re.compile(\"'.*?'\") ,\"SLOWO\" ,regex=True)\n",
    "    \n",
    "    # Remove tabs and new lines\n",
    "    df['file_body'] = df['file_body'].str.replace(re.compile('\\n|\\t') ,\" \" ,regex=True)\n",
    "    \n",
    "    return df"
   ]
  },
  {
   "cell_type": "markdown",
   "metadata": {},
   "source": [
    "#### Load and visualise data"
   ]
  },
  {
   "cell_type": "code",
   "execution_count": null,
   "metadata": {},
   "outputs": [],
   "source": [
    "Helper function for visualisation"
   ]
  },
  {
   "cell_type": "code",
   "execution_count": 5,
   "metadata": {},
   "outputs": [],
   "source": [
    "def basicVisualization(df):\n",
    "    # Visualization\n",
    "    order = list(df['language'].unique())\n",
    "    order.sort()\n",
    "    \n",
    "    fig, axs = plt.subplots(nrows = 2, figsize=(20, 10))\n",
    "    sns.countplot(x=\"language\", data=df, ax = axs[0], order = order)\n",
    "    sns.barplot(x = df.groupby('language').agg('median').index, y ='body_len', data=df.groupby('language').agg('median'), ax = axs[1])\n",
    "    axs[0].set_title('Number of samples per language')\n",
    "    axs[0].set_ylabel('Number of samples')\n",
    "    axs[1].set_title('Median body lenght per language')\n",
    "    axs[1].set_ylabel('Median value of body lenght')"
   ]
  },
  {
   "cell_type": "markdown",
   "metadata": {},
   "source": [
    "Define function to load input data, clean it and add new column of file length. This column will be used only for visualisation."
   ]
  },
  {
   "cell_type": "code",
   "execution_count": 6,
   "metadata": {},
   "outputs": [],
   "source": [
    "def load_input_data():\n",
    "    # Read dataset\n",
    "    df = pd.read_csv('data.csv')\n",
    "    df['body_len'] = df['file_body'].apply(str).apply(len)\n",
    "    \n",
    "    # Data Engineering\n",
    "    df = clean_dataset(df)\n",
    "    \n",
    "    return df"
   ]
  },
  {
   "cell_type": "code",
   "execution_count": 7,
   "metadata": {},
   "outputs": [
    {
     "data": {
      "image/png": "[encoded data removed]",
      "text/plain": [
       "<Figure size 1440x720 with 2 Axes>"
      ]
     },
     "metadata": {},
     "output_type": "display_data"
    }
   ],
   "source": [
    "df = load_input_data()\n",
    "basicVisualization(df)"
   ]
  },
  {
   "cell_type": "markdown",
   "metadata": {},
   "source": [
    "As we can see, number of samples per language is balanced enough but median body length is quite small for few languages. We will try to build model despite that, and in case of not satisfing results we will make our input data more balanced."
   ]
  },
  {
   "cell_type": "markdown",
   "metadata": {},
   "source": [
    "## Model"
   ]
  },
  {
   "cell_type": "markdown",
   "metadata": {},
   "source": [
    "Now let's build our bag of words model and use Random Forest alghoritm for classification. \n",
    "First encode languages into numeric values."
   ]
  },
  {
   "cell_type": "code",
   "execution_count": 8,
   "metadata": {},
   "outputs": [],
   "source": [
    "# Encode languages values in dataset and shuffle data\n",
    "lb = LabelEncoder()\n",
    "df['language'] = lb.fit_transform(df['language'].values)\n",
    "df = df.sample(frac=1)"
   ]
  },
  {
   "cell_type": "markdown",
   "metadata": {},
   "source": [
    "We are building bag of words for 1500 most frequent words. For tokenization we will use WordPunctTokenizer which will extract special sings as separate tokens. This will be useful for our model because sings like: \";\", \"#\", \">\" may be important. \n",
    "We will use TfidfTransformer to normalize our count matrix. The goal of using tf-idf instead of the raw frequencies of occurrence of a token in a given document is to scale down the impact of tokens that occur very frequently in a given corpus and that are hence empirically less informative than features that occur in a small fraction of the training corpus."
   ]
  },
  {
   "cell_type": "code",
   "execution_count": 9,
   "metadata": {},
   "outputs": [],
   "source": [
    "def my_tokenizer(doc):\n",
    "    # Use WordPunctTokenizer to split text into tokens\n",
    "    my_tokenizer = WordPunctTokenizer()\n",
    "    \n",
    "    return my_tokenizer.tokenize(doc)\n",
    "    \n",
    "    \n",
    "def create_bag_of_words_model(df):\n",
    "   #Create bag of words model \n",
    "   vectorizer = CountVectorizer(tokenizer = my_tokenizer, max_features = 1500)\n",
    "   bag_of_words = vectorizer.fit_transform(df['file_body'].values.astype('U'))\n",
    "   tfidf_transformer = TfidfTransformer(use_idf=False).fit(bag_of_words)\n",
    "   bag_of_words_norm = tfidf_transformer.transform(bag_of_words).toarray()\n",
    "   vocab = vectorizer.get_feature_names() \n",
    "   \n",
    "   return vocab, bag_of_words_norm"
   ]
  },
  {
   "cell_type": "code",
   "execution_count": 10,
   "metadata": {},
   "outputs": [],
   "source": [
    "# Build bag of words model \n",
    "vocab, bag_of_words = create_bag_of_words_model(df)"
   ]
  },
  {
   "cell_type": "markdown",
   "metadata": {},
   "source": [
    "## Training"
   ]
  },
  {
   "cell_type": "markdown",
   "metadata": {},
   "source": [
    "Before training we will split data into training set and test set in proportion 4:1"
   ]
  },
  {
   "cell_type": "code",
   "execution_count": 11,
   "metadata": {},
   "outputs": [],
   "source": [
    "X_train, X_test, y_train, y_test = train_test_split(bag_of_words, df['language'].values, test_size = 0.20, random_state = 0)"
   ]
  },
  {
   "cell_type": "markdown",
   "metadata": {},
   "source": [
    "For calssification we will use Random Forest alghoritm, in declaration of classifier we define only number of decission trees which will be used."
   ]
  },
  {
   "cell_type": "code",
   "execution_count": 12,
   "metadata": {},
   "outputs": [],
   "source": [
    "def train_model(X_train, y_train, X_test, y_test):\n",
    "    # Train model with Random Forest Classifier\n",
    "    classifier = RandomForestClassifier(n_estimators = 200)\n",
    "    classifier.fit(X_train, y_train)\n",
    "\n",
    "    #Predict values for test set\n",
    "    y_pred = classifier.predict(X_test)\n",
    "    accuracy = accuracy_score(y_test, y_pred)\n",
    "    \n",
    "    return y_pred, accuracy"
   ]
  },
  {
   "cell_type": "code",
   "execution_count": 13,
   "metadata": {},
   "outputs": [],
   "source": [
    "# Train model\n",
    "y_pred, accuracy = train_model(X_train,y_train, X_test, y_test)"
   ]
  },
  {
   "cell_type": "markdown",
   "metadata": {},
   "source": [
    "Presentation of results"
   ]
  },
  {
   "cell_type": "code",
   "execution_count": 14,
   "metadata": {},
   "outputs": [
    {
     "data": {
      "text/plain": [
       "<matplotlib.legend.Legend at 0x1d13ec76710>"
      ]
     },
     "execution_count": 14,
     "metadata": {},
     "output_type": "execute_result"
    },
    {
     "data": {
      "image/png": "[encoded data removed]",
      "text/plain": [
       "<Figure size 1440x360 with 1 Axes>"
      ]
     },
     "metadata": {},
     "output_type": "display_data"
    }
   ],
   "source": [
    "precision, recall, fscore, support = precision_recall_fscore_support(y_test, y_pred)\n",
    "results = pd.DataFrame( data={'precision': precision, 'recall': recall, 'fscore': fscore})\n",
    "results.index = lb.inverse_transform(results.index)\n",
    "results.plot( kind=\"bar\", figsize = (20, 5), title = 'Results per language, overall accuracy: '+\"{:.2%}\".format(accuracy)).legend(bbox_to_anchor=(1, 1))"
   ]
  }
 ],
 "metadata": {
  "kernelspec": {
   "display_name": "Python 3",
   "language": "python",
   "name": "python3"
  },
  "language_info": {
   "codemirror_mode": {
    "name": "ipython",
    "version": 3
   },
   "file_extension": ".py",
   "mimetype": "text/x-python",
   "name": "python",
   "nbconvert_exporter": "python",
   "pygments_lexer": "ipython3",
   "version": "3.6.6"
  }
 },
 "nbformat": 4,
 "nbformat_minor": 2
}
